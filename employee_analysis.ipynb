{
 "cells": [
  {
   "cell_type": "code",
   "execution_count": 1,
   "metadata": {
    "scrolled": true
   },
   "outputs": [],
   "source": [
    "import duckdb"
   ]
  },
  {
   "cell_type": "code",
   "execution_count": 2,
   "metadata": {},
   "outputs": [],
   "source": [
    "duckdb.sql(\"DROP TABLE IF EXISTS employees\")\n",
    "duckdb.sql(\"CREATE TABLE employees AS SELECT * FROM 'Employee.csv'\")"
   ]
  },
  {
   "cell_type": "markdown",
   "metadata": {},
   "source": [
    "# Basic Exploration"
   ]
  },
  {
   "cell_type": "code",
   "execution_count": 3,
   "metadata": {},
   "outputs": [
    {
     "data": {
      "text/plain": [
       "┌─────────────┬──────────────────┬─────────┬───────┬────────────┬────────────────────────────┬──────────────────┬─────────────────┬───────────────────┬────────────────┬─────────────────────┬──────────────────┬────────────────┬───────────┬───────────────────────┬───────────┬────────────────┬────────────┬─────────────────────────────┬──────────┐\n",
       "│ Employee_ID │    Department    │ Gender  │  Age  │ Job_Title  │         Hire_Date          │ Years_At_Company │ Education_Level │ Performance_Score │ Monthly_Salary │ Work_Hours_Per_Week │ Projects_Handled │ Overtime_Hours │ Sick_Days │ Remote_Work_Frequency │ Team_Size │ Training_Hours │ Promotions │ Employee_Satisfaction_Score │ Resigned │\n",
       "│    int64    │     varchar      │ varchar │ int64 │  varchar   │         timestamp          │      int64       │     varchar     │       int64       │     double     │        int64        │      int64       │     int64      │   int64   │         int64         │   int64   │     int64      │   int64    │           double            │ boolean  │\n",
       "├─────────────┼──────────────────┼─────────┼───────┼────────────┼────────────────────────────┼──────────────────┼─────────────────┼───────────────────┼────────────────┼─────────────────────┼──────────────────┼────────────────┼───────────┼───────────────────────┼───────────┼────────────────┼────────────┼─────────────────────────────┼──────────┤\n",
       "│           1 │ IT               │ Male    │    55 │ Specialist │ 2022-01-19 08:03:05.556036 │                2 │ High School     │                 5 │         6750.0 │                  33 │               32 │             22 │         2 │                     0 │        14 │             66 │          0 │                        2.63 │ false    │\n",
       "│           2 │ Finance          │ Male    │    29 │ Developer  │ 2024-04-18 08:03:05.556036 │                0 │ High School     │                 5 │         7500.0 │                  34 │               34 │             13 │        14 │                   100 │        12 │             61 │          2 │                        1.72 │ false    │\n",
       "│           3 │ Finance          │ Male    │    55 │ Specialist │ 2015-10-26 08:03:05.556036 │                8 │ High School     │                 3 │         5850.0 │                  37 │               27 │              6 │         3 │                    50 │        10 │              1 │          0 │                        3.17 │ false    │\n",
       "│           4 │ Customer Support │ Female  │    48 │ Analyst    │ 2016-10-22 08:03:05.556036 │                7 │ Bachelor        │                 2 │         4800.0 │                  52 │               10 │             28 │        12 │                   100 │        10 │              0 │          1 │                        1.86 │ false    │\n",
       "│           5 │ Engineering      │ Female  │    36 │ Analyst    │ 2021-07-23 08:03:05.556036 │                3 │ Bachelor        │                 2 │         4800.0 │                  38 │               11 │             29 │        13 │                   100 │        15 │              9 │          1 │                        1.25 │ false    │\n",
       "└─────────────┴──────────────────┴─────────┴───────┴────────────┴────────────────────────────┴──────────────────┴─────────────────┴───────────────────┴────────────────┴─────────────────────┴──────────────────┴────────────────┴───────────┴───────────────────────┴───────────┴────────────────┴────────────┴─────────────────────────────┴──────────┘"
      ]
     },
     "execution_count": 3,
     "metadata": {},
     "output_type": "execute_result"
    }
   ],
   "source": [
    "duckdb.sql(\"\"\"\n",
    "          SELECT * FROM employees LIMIT 5\n",
    "           \"\"\")"
   ]
  },
  {
   "cell_type": "markdown",
   "metadata": {},
   "source": []
  },
  {
   "cell_type": "code",
   "execution_count": 4,
   "metadata": {},
   "outputs": [
    {
     "data": {
      "text/plain": [
       "┌─────────────────────────────┬─────────────┬─────────┬─────────┬─────────┬─────────┐\n",
       "│         column_name         │ column_type │  null   │   key   │ default │  extra  │\n",
       "│           varchar           │   varchar   │ varchar │ varchar │ varchar │ varchar │\n",
       "├─────────────────────────────┼─────────────┼─────────┼─────────┼─────────┼─────────┤\n",
       "│ Employee_ID                 │ BIGINT      │ YES     │ NULL    │ NULL    │ NULL    │\n",
       "│ Department                  │ VARCHAR     │ YES     │ NULL    │ NULL    │ NULL    │\n",
       "│ Gender                      │ VARCHAR     │ YES     │ NULL    │ NULL    │ NULL    │\n",
       "│ Age                         │ BIGINT      │ YES     │ NULL    │ NULL    │ NULL    │\n",
       "│ Job_Title                   │ VARCHAR     │ YES     │ NULL    │ NULL    │ NULL    │\n",
       "│ Hire_Date                   │ TIMESTAMP   │ YES     │ NULL    │ NULL    │ NULL    │\n",
       "│ Years_At_Company            │ BIGINT      │ YES     │ NULL    │ NULL    │ NULL    │\n",
       "│ Education_Level             │ VARCHAR     │ YES     │ NULL    │ NULL    │ NULL    │\n",
       "│ Performance_Score           │ BIGINT      │ YES     │ NULL    │ NULL    │ NULL    │\n",
       "│ Monthly_Salary              │ DOUBLE      │ YES     │ NULL    │ NULL    │ NULL    │\n",
       "│ Work_Hours_Per_Week         │ BIGINT      │ YES     │ NULL    │ NULL    │ NULL    │\n",
       "│ Projects_Handled            │ BIGINT      │ YES     │ NULL    │ NULL    │ NULL    │\n",
       "│ Overtime_Hours              │ BIGINT      │ YES     │ NULL    │ NULL    │ NULL    │\n",
       "│ Sick_Days                   │ BIGINT      │ YES     │ NULL    │ NULL    │ NULL    │\n",
       "│ Remote_Work_Frequency       │ BIGINT      │ YES     │ NULL    │ NULL    │ NULL    │\n",
       "│ Team_Size                   │ BIGINT      │ YES     │ NULL    │ NULL    │ NULL    │\n",
       "│ Training_Hours              │ BIGINT      │ YES     │ NULL    │ NULL    │ NULL    │\n",
       "│ Promotions                  │ BIGINT      │ YES     │ NULL    │ NULL    │ NULL    │\n",
       "│ Employee_Satisfaction_Score │ DOUBLE      │ YES     │ NULL    │ NULL    │ NULL    │\n",
       "│ Resigned                    │ BOOLEAN     │ YES     │ NULL    │ NULL    │ NULL    │\n",
       "├─────────────────────────────┴─────────────┴─────────┴─────────┴─────────┴─────────┤\n",
       "│ 20 rows                                                                 6 columns │\n",
       "└───────────────────────────────────────────────────────────────────────────────────┘"
      ]
     },
     "execution_count": 4,
     "metadata": {},
     "output_type": "execute_result"
    }
   ],
   "source": [
    "duckdb.sql(\"\"\"\n",
    "          DESCRIBE employees \n",
    "           \"\"\")"
   ]
  },
  {
   "cell_type": "markdown",
   "metadata": {},
   "source": [
    "# Salary and Compensation Insights"
   ]
  },
  {
   "cell_type": "markdown",
   "metadata": {},
   "source": [
    "## Avg_Salary by Department, Job_Title"
   ]
  },
  {
   "cell_type": "code",
   "execution_count": null,
   "metadata": {},
   "outputs": [
    {
     "data": {
      "text/plain": [
       "┌──────────────────┬────────────┬────────────┬────────────┬────────────┬─────────────────────┐\n",
       "│    Department    │ Job_Title  │ Min_Salary │ Max_Salary │ Avg_Salary │ Number_of_Employees │\n",
       "│     varchar      │  varchar   │   double   │   double   │   double   │        int64        │\n",
       "├──────────────────┼────────────┼────────────┼────────────┼────────────┼─────────────────────┤\n",
       "│ Customer Support │ Engineer   │     6600.0 │     9000.0 │    7794.65 │                1570 │\n",
       "│ Customer Support │ Manager    │     6600.0 │     9000.0 │    7792.43 │                1585 │\n",
       "│ Customer Support │ Consultant │     6050.0 │     8250.0 │    7151.77 │                1558 │\n",
       "│ Customer Support │ Developer  │     5500.0 │     7500.0 │     6517.9 │                1620 │\n",
       "│ Customer Support │ Specialist │     4950.0 │     6750.0 │    5872.91 │                1630 │\n",
       "│ Customer Support │ Analyst    │     4400.0 │     6000.0 │    5192.92 │                1582 │\n",
       "│ Customer Support │ Technician │     3850.0 │     5250.0 │    4524.16 │                1571 │\n",
       "│ Engineering      │ Engineer   │     6600.0 │     9000.0 │    7840.61 │                1566 │\n",
       "│ Engineering      │ Manager    │     6600.0 │     9000.0 │     7818.5 │                1557 │\n",
       "│ Engineering      │ Consultant │     6050.0 │     8250.0 │    7113.04 │                1518 │\n",
       "│     ·            │     ·      │        ·   │        ·   │       ·    │                  ·  │\n",
       "│     ·            │     ·      │        ·   │        ·   │       ·    │                  ·  │\n",
       "│     ·            │     ·      │        ·   │        ·   │       ·    │                  ·  │\n",
       "│ Operations       │ Specialist │     4950.0 │     6750.0 │    5878.49 │                1611 │\n",
       "│ Operations       │ Analyst    │     4400.0 │     6000.0 │    5196.42 │                1565 │\n",
       "│ Operations       │ Technician │     3850.0 │     5250.0 │    4544.22 │                1635 │\n",
       "│ Sales            │ Engineer   │     6600.0 │     9000.0 │    7821.72 │                1602 │\n",
       "│ Sales            │ Manager    │     6600.0 │     9000.0 │    7790.81 │                1567 │\n",
       "│ Sales            │ Consultant │     6050.0 │     8250.0 │    7142.38 │                1587 │\n",
       "│ Sales            │ Developer  │     5500.0 │     7500.0 │    6479.62 │                1644 │\n",
       "│ Sales            │ Specialist │     4950.0 │     6750.0 │    5844.21 │                1631 │\n",
       "│ Sales            │ Analyst    │     4400.0 │     6000.0 │    5197.66 │                1540 │\n",
       "│ Sales            │ Technician │     3850.0 │     5250.0 │    4554.96 │                1551 │\n",
       "├──────────────────┴────────────┴────────────┴────────────┴────────────┴─────────────────────┤\n",
       "│ 63 rows (20 shown)                                                               6 columns │\n",
       "└────────────────────────────────────────────────────────────────────────────────────────────┘"
      ]
     },
     "execution_count": 5,
     "metadata": {},
     "output_type": "execute_result"
    }
   ],
   "source": [
    "# Getting Min, Max, and Avg Salary by Department and Job_Title\n",
    "\n",
    "duckdb.sql(\"\"\"\n",
    "         SELECT \n",
    "            Department,\n",
    "            Job_Title,\n",
    "            MIN(Monthly_Salary) AS Min_Salary,\n",
    "            MAX(Monthly_Salary) AS Max_Salary,\n",
    "            ROUND(AVG(Monthly_Salary),2) AS Avg_Salary,\n",
    "            Count(Employee_ID) AS Number_of_Employees\n",
    "         FROM employees\n",
    "         GROUP BY\n",
    "            Department, Job_Title\n",
    "         ORDER BY \n",
    "            Department, Avg_Salary DESC\n",
    "          \"\"\")"
   ]
  },
  {
   "cell_type": "markdown",
   "metadata": {},
   "source": [
    "## Identifying High-Salary Outliers: A Departmental and Job-Level Analysis Using Standard Deviation Thresholds"
   ]
  },
  {
   "cell_type": "code",
   "execution_count": null,
   "metadata": {},
   "outputs": [
    {
     "data": {
      "text/plain": [
       "┌──────────────────┬────────────┬─────────────────────┬──────────────────────┬───────────────┬───────────────────┬───────────────────┐\n",
       "│    Department    │ Job_Title  │ Number_Of_Employees │ Max_Std_Dev_Multiple │ Annual_Salary │ Avg_Annual_Salary │ Salary_Difference │\n",
       "│     varchar      │  varchar   │        int64        │        double        │    double     │      double       │      double       │\n",
       "├──────────────────┼────────────┼─────────────────────┼──────────────────────┼───────────────┼───────────────────┼───────────────────┤\n",
       "│ Marketing        │ Developer  │                 249 │                  1.5 │       90000.0 │           77488.1 │           12511.9 │\n",
       "│ Finance          │ Engineer   │                 268 │                 1.49 │      108000.0 │          93028.06 │          14971.94 │\n",
       "│ Customer Support │ Technician │                 279 │                 1.48 │       63000.0 │          54289.88 │           8710.12 │\n",
       "│ Legal            │ Analyst    │                 299 │                 1.47 │       72000.0 │          62080.59 │           9919.41 │\n",
       "│ Marketing        │ Consultant │                 289 │                 1.46 │       99000.0 │          85498.07 │          13501.93 │\n",
       "│ Legal            │ Engineer   │                 283 │                 1.45 │      108000.0 │          93289.18 │          14710.82 │\n",
       "│ HR               │ Engineer   │                 300 │                 1.45 │      108000.0 │          93356.41 │          14643.59 │\n",
       "│ Sales            │ Developer  │                 313 │                 1.45 │       90000.0 │          77755.47 │          12244.53 │\n",
       "│ Marketing        │ Technician │                 321 │                 1.45 │       63000.0 │          54417.72 │           8582.28 │\n",
       "│ IT               │ Technician │                 296 │                 1.45 │       63000.0 │          54456.66 │           8543.34 │\n",
       "├──────────────────┴────────────┴─────────────────────┴──────────────────────┴───────────────┴───────────────────┴───────────────────┤\n",
       "│ 10 rows                                                                                                                  7 columns │\n",
       "└────────────────────────────────────────────────────────────────────────────────────────────────────────────────────────────────────┘"
      ]
     },
     "execution_count": 38,
     "metadata": {},
     "output_type": "execute_result"
    }
   ],
   "source": [
    "duckdb.sql(\"\"\"\n",
    "WITH Salary_Stats AS (\n",
    "    SELECT \n",
    "        Employee_ID,\n",
    "        Department,\n",
    "        Job_Title,\n",
    "        Monthly_Salary * 12 AS Annual_Salary,\n",
    "        ROUND(AVG(Monthly_Salary * 12) OVER (PARTITION BY Department, Job_Title), 2) AS Avg_Annual_Salary,\n",
    "        ROUND(STDDEV(Monthly_Salary * 12) OVER (PARTITION BY Department, Job_Title), 2) AS Salary_StdDev\n",
    "    FROM employees\n",
    "),\n",
    "Salary_Variance AS (\n",
    "    SELECT\n",
    "        Department,\n",
    "        Job_Title,\n",
    "        Employee_ID,\n",
    "        Annual_Salary,\n",
    "        Avg_Annual_Salary,\n",
    "        Salary_StdDev,\n",
    "        ROUND((Annual_Salary - Avg_Annual_Salary) / Salary_StdDev, 2) AS Std_Dev_Multiple\n",
    "    FROM Salary_Stats\n",
    "    WHERE Salary_StdDev > 0 -- Avoid division by zero\n",
    ")\n",
    "SELECT \n",
    "    Department,\n",
    "    Job_Title,\n",
    "    COUNT(Employee_ID) AS Number_Of_Employees,\n",
    "    MAX(Std_Dev_Multiple) AS Max_Std_Dev_Multiple,\n",
    "    Annual_Salary,\n",
    "    Avg_Annual_Salary,\n",
    "    ROUND(Annual_Salary - Avg_Annual_Salary, 2) As Salary_Difference\n",
    "FROM Salary_Variance\n",
    "GROUP BY Department, Job_Title, Annual_Salary, Avg_Annual_Salary\n",
    "ORDER BY Max_Std_Dev_Multiple DESC, Salary_Difference DESC\n",
    "LIMIT 10;\n",
    "\"\"\")\n",
    "\n"
   ]
  },
  {
   "cell_type": "markdown",
   "metadata": {},
   "source": [
    "## By Gender"
   ]
  },
  {
   "cell_type": "code",
   "execution_count": null,
   "metadata": {},
   "outputs": [
    {
     "data": {
      "text/plain": [
       "┌──────────────────┬────────────┬─────────┬────────────┐\n",
       "│    Department    │ Job_Title  │ Gender  │ Avg_Salary │\n",
       "│     varchar      │  varchar   │ varchar │   double   │\n",
       "├──────────────────┼────────────┼─────────┼────────────┤\n",
       "│ Customer Support │ Analyst    │ Male    │    5226.77 │\n",
       "│ Customer Support │ Consultant │ Other   │    7344.79 │\n",
       "│ Customer Support │ Developer  │ Male    │    6523.13 │\n",
       "│ Customer Support │ Engineer   │ Other   │    7821.82 │\n",
       "│ Customer Support │ Manager    │ Female  │    7829.92 │\n",
       "│ Customer Support │ Specialist │ Other   │    5964.55 │\n",
       "│ Customer Support │ Technician │ Male    │    4531.35 │\n",
       "│ Engineering      │ Analyst    │ Female  │    5205.38 │\n",
       "│ Engineering      │ Consultant │ Female  │    7120.82 │\n",
       "│ Engineering      │ Developer  │ Other   │     6561.4 │\n",
       "│     ·            │    ·       │  ·      │        ·   │\n",
       "│     ·            │    ·       │  ·      │        ·   │\n",
       "│     ·            │    ·       │  ·      │        ·   │\n",
       "│ Operations       │ Manager    │ Male    │    7840.57 │\n",
       "│ Operations       │ Specialist │ Other   │     5940.0 │\n",
       "│ Operations       │ Technician │ Male    │    4553.29 │\n",
       "│ Sales            │ Analyst    │ Male    │    5201.06 │\n",
       "│ Sales            │ Consultant │ Other   │    7255.77 │\n",
       "│ Sales            │ Developer  │ Male    │    6483.83 │\n",
       "│ Sales            │ Engineer   │ Male    │    7833.11 │\n",
       "│ Sales            │ Manager    │ Other   │    7817.14 │\n",
       "│ Sales            │ Specialist │ Other   │    5863.24 │\n",
       "│ Sales            │ Technician │ Female  │    4577.06 │\n",
       "├──────────────────┴────────────┴─────────┴────────────┤\n",
       "│ 63 rows (20 shown)                         4 columns │\n",
       "└──────────────────────────────────────────────────────┘"
      ]
     },
     "execution_count": 7,
     "metadata": {},
     "output_type": "execute_result"
    }
   ],
   "source": []
  },
  {
   "cell_type": "markdown",
   "metadata": {},
   "source": [
    "## High School Graduates Earning Top Salaries: Identifying Departments and Job Titles Where High School Education Leads the Pay Scale"
   ]
  },
  {
   "cell_type": "code",
   "execution_count": 61,
   "metadata": {},
   "outputs": [
    {
     "data": {
      "text/plain": [
       "┌─────────────┬────────────┬─────────────────┬─────────────────────┬───────────────────┬───────┐\n",
       "│ Department  │ Job_Title  │ Education_Level │ Number_Of_Employees │ Avg_Annual_Salary │ Rank  │\n",
       "│   varchar   │  varchar   │     varchar     │        int64        │      double       │ int64 │\n",
       "├─────────────┼────────────┼─────────────────┼─────────────────────┼───────────────────┼───────┤\n",
       "│ Engineering │ Manager    │ High School     │                 444 │          94605.41 │     1 │\n",
       "│ Engineering │ Technician │ High School     │                 462 │          55390.91 │     1 │\n",
       "│ HR          │ Developer  │ High School     │                 486 │          78172.84 │     1 │\n",
       "│ HR          │ Specialist │ High School     │                 466 │          70559.23 │     1 │\n",
       "│ IT          │ Developer  │ High School     │                 483 │          77975.16 │     1 │\n",
       "│ Legal       │ Manager    │ High School     │                 492 │          93848.78 │     1 │\n",
       "│ Marketing   │ Consultant │ High School     │                 454 │          85654.63 │     1 │\n",
       "│ Marketing   │ Engineer   │ High School     │                 516 │          94311.63 │     1 │\n",
       "│ Operations  │ Specialist │ High School     │                 499 │          71520.24 │     1 │\n",
       "└─────────────┴────────────┴─────────────────┴─────────────────────┴───────────────────┴───────┘"
      ]
     },
     "execution_count": 61,
     "metadata": {},
     "output_type": "execute_result"
    }
   ],
   "source": [
    "duckdb.sql(\"\"\"\n",
    "WITH Avg_Salary_by_Education AS (\n",
    "    SELECT \n",
    "        Department,\n",
    "        Job_Title,\n",
    "        Education_Level,\n",
    "        COUNT(Employee_ID) AS Number_Of_Employees,\n",
    "        ROUND(AVG(Monthly_Salary * 12), 2) AS Avg_Annual_Salary,\n",
    "        ROW_NUMBER() OVER (PARTITION BY Department, Job_Title ORDER BY AVG(Monthly_Salary * 12) DESC) AS Rank\n",
    "    FROM employees\n",
    "    GROUP BY Department, Job_Title, Education_Level\n",
    ")\n",
    "SELECT \n",
    "    Department,\n",
    "    Job_Title,\n",
    "    Education_Level,\n",
    "    Number_Of_Employees,\n",
    "    Avg_Annual_Salary,\n",
    "    RANK\n",
    "FROM Avg_Salary_by_Education\n",
    "WHERE (Education_Level = 'High School') AND (RANK = 1)\n",
    "ORDER BY Department, Job_Title, Rank DESC;\n",
    "\"\"\")\n"
   ]
  },
  {
   "cell_type": "markdown",
   "metadata": {},
   "source": [
    "Managers can achieve the highest salaries in their departments even with only a High School degree. In the IT department, Developers with a High School degree can earn notably high salaries."
   ]
  },
  {
   "cell_type": "markdown",
   "metadata": {},
   "source": [
    "# Work-Life Balance Metrics"
   ]
  },
  {
   "cell_type": "markdown",
   "metadata": {},
   "source": [
    "Before Analysis, let's get some max and min for some key fields"
   ]
  },
  {
   "cell_type": "code",
   "execution_count": null,
   "metadata": {},
   "outputs": [
    {
     "data": {
      "text/plain": [
       "┌──────────┬──────────┬──────────┬──────────┬───────────────┬──────────────┬────────────┬────────────┐\n",
       "│ Max_Work │ Min_Work │ max_over │ min_over │ Max_Sick_Days │ min_sickdays │ max_remote │ min_remote │\n",
       "│  int64   │  int64   │  int64   │  int64   │     int64     │    int64     │   int64    │   int64    │\n",
       "├──────────┼──────────┼──────────┼──────────┼───────────────┼──────────────┼────────────┼────────────┤\n",
       "│       60 │       30 │       29 │        0 │            14 │            0 │        100 │          0 │\n",
       "└──────────┴──────────┴──────────┴──────────┴───────────────┴──────────────┴────────────┴────────────┘"
      ]
     },
     "execution_count": 14,
     "metadata": {},
     "output_type": "execute_result"
    }
   ],
   "source": [
    "duckdb.sql(\"\"\"\n",
    "            SELECT \n",
    "               max(Work_Hours_Per_Week) as Max_Work,\n",
    "               min(Work_Hours_Per_Week) as Min_Work,\n",
    "               max(Overtime_Hours) As max_over,\n",
    "               min(Overtime_Hours) As min_over,\n",
    "               max(Sick_Days) as Max_Sick_Days,\n",
    "               min(Sick_Days) as min_sickdays,\n",
    "               max(Remote_Work_Frequency) as max_remote,\n",
    "               min(Remote_Work_Frequency) as min_remote\n",
    "            FROM employees\n",
    "           \n",
    "          \"\"\")"
   ]
  },
  {
   "cell_type": "markdown",
   "metadata": {},
   "source": [
    "Looks like longer working hour can decrease employees satisfaction"
   ]
  },
  {
   "cell_type": "markdown",
   "metadata": {},
   "source": [
    "## Is there a relationship between remote work frequency and sick days taken?\n"
   ]
  },
  {
   "cell_type": "code",
   "execution_count": 94,
   "metadata": {},
   "outputs": [
    {
     "data": {
      "text/plain": [
       "┌──────────────────┬───────────────────────┬─────────────────────┬───────────────┬───────┐\n",
       "│    Department    │ Remote_Work_Frequency │ Number_of_Employees │ Avg_Sick_Days │ RANK  │\n",
       "│     varchar      │         int64         │        int64        │    double     │ int64 │\n",
       "├──────────────────┼───────────────────────┼─────────────────────┼───────────────┼───────┤\n",
       "│ Finance          │                     0 │                2199 │         7.229 │     1 │\n",
       "│ Customer Support │                   100 │                2248 │         7.184 │     1 │\n",
       "│ Sales            │                    75 │                2288 │          7.18 │     1 │\n",
       "│ IT               │                   100 │                2178 │         7.145 │     1 │\n",
       "│ Engineering      │                    50 │                2142 │         7.102 │     1 │\n",
       "│ HR               │                   100 │                2145 │          7.09 │     1 │\n",
       "│ Marketing        │                     0 │                2163 │         7.083 │     1 │\n",
       "│ Legal            │                    50 │                2184 │         7.056 │     1 │\n",
       "│ Operations       │                     0 │                2275 │         7.043 │     1 │\n",
       "│ HR               │                    75 │                2138 │         6.964 │     5 │\n",
       "│ IT               │                     0 │                2214 │          6.95 │     5 │\n",
       "│ Finance          │                    75 │                2286 │         6.928 │     5 │\n",
       "│ Customer Support │                    25 │                2201 │         6.927 │     5 │\n",
       "│ Engineering      │                    25 │                2258 │          6.92 │     5 │\n",
       "│ Marketing        │                    25 │                2335 │         6.856 │     5 │\n",
       "│ Operations       │                    75 │                2227 │         6.855 │     5 │\n",
       "│ Sales            │                    50 │                2106 │          6.85 │     5 │\n",
       "│ Legal            │                    25 │                2237 │         6.831 │     5 │\n",
       "├──────────────────┴───────────────────────┴─────────────────────┴───────────────┴───────┤\n",
       "│ 18 rows                                                                      5 columns │\n",
       "└────────────────────────────────────────────────────────────────────────────────────────┘"
      ]
     },
     "execution_count": 94,
     "metadata": {},
     "output_type": "execute_result"
    }
   ],
   "source": [
    "duckdb.sql(\"\"\"\n",
    "    WITH RankedSickDays AS (\n",
    "        SELECT\n",
    "            Department,\n",
    "            Remote_Work_Frequency,\n",
    "            COUNT(Employee_ID) AS Number_of_Employees,\n",
    "            ROUND(AVG(Sick_Days), 3) AS Avg_Sick_Days,\n",
    "            ROW_NUMBER() OVER (PARTITION BY Department ORDER BY AVG(Sick_Days) DESC) AS RANK\n",
    "        FROM employees\n",
    "        GROUP BY Department, Remote_Work_Frequency\n",
    "    )\n",
    "    SELECT\n",
    "        Department,\n",
    "        Remote_Work_Frequency,\n",
    "        Number_of_Employees,\n",
    "        Avg_Sick_Days,\n",
    "        RANK\n",
    "    FROM RankedSickDays\n",
    "    WHERE RANK = 1 OR RANK = 5\n",
    "    ORDER BY RANK, Avg_Sick_Days DESC\n",
    "\"\"\")\n"
   ]
  },
  {
   "cell_type": "markdown",
   "metadata": {},
   "source": [
    "Looks like there is no relationship between Remote_Work_Frequency and avg_sick_days"
   ]
  },
  {
   "cell_type": "markdown",
   "metadata": {},
   "source": [
    "## How does overtime correlate with employee satisfaction? Show Overtime Situation by Department As well"
   ]
  },
  {
   "cell_type": "code",
   "execution_count": null,
   "metadata": {},
   "outputs": [
    {
     "data": {
      "text/plain": [
       "┌──────────────────┬───────────────────┬─────────────────────────────────┬───────────────────────────────┬───────────────────────────────────┬──────────────────────────────┐\n",
       "│    Department    │ Overtime_category │ Number_Of_Employees_By_Category │ Total_Employees_by_Department │ Overtime_Percentage_by_Department │ Avg_satisfaction_by_category │\n",
       "│     varchar      │      varchar      │              int64              │             int64             │              double               │            double            │\n",
       "├──────────────────┼───────────────────┼─────────────────────────────────┼───────────────────────────────┼───────────────────────────────────┼──────────────────────────────┤\n",
       "│ Customer Support │ <10HOURS          │                            3775 │                         11116 │                             33.96 │                        2.981 │\n",
       "│ Customer Support │ 10-20HOURS        │                            4056 │                         11116 │                             36.49 │                        2.963 │\n",
       "│ Customer Support │ 20+HOURS          │                            3285 │                         11116 │                             29.55 │                        2.959 │\n",
       "│ Engineering      │ <10HOURS          │                            3593 │                         10956 │                             32.79 │                        3.032 │\n",
       "│ Engineering      │ 20+HOURS          │                            3336 │                         10956 │                             30.45 │                        3.007 │\n",
       "│ Engineering      │ 10-20HOURS        │                            4027 │                         10956 │                             36.76 │                        2.974 │\n",
       "│ Finance          │ 10-20HOURS        │                            4063 │                         11200 │                             36.28 │                        3.014 │\n",
       "│ Finance          │ 20+HOURS          │                            3327 │                         11200 │                             29.71 │                        3.011 │\n",
       "│ Finance          │ <10HOURS          │                            3810 │                         11200 │                             34.02 │                        2.986 │\n",
       "│ HR               │ <10HOURS          │                            3598 │                         10960 │                             32.83 │                        3.007 │\n",
       "│ ·                │    ·              │                              ·  │                           ·   │                               ·   │                          ·   │\n",
       "│ ·                │    ·              │                              ·  │                           ·   │                               ·   │                          ·   │\n",
       "│ ·                │    ·              │                              ·  │                           ·   │                               ·   │                          ·   │\n",
       "│ Legal            │ 20+HOURS          │                            3354 │                         11118 │                             30.17 │                        2.963 │\n",
       "│ Marketing        │ 20+HOURS          │                            3362 │                         11216 │                             29.98 │                        3.021 │\n",
       "│ Marketing        │ 10-20HOURS        │                            4121 │                         11216 │                             36.74 │                        2.996 │\n",
       "│ Marketing        │ <10HOURS          │                            3733 │                         11216 │                             33.28 │                        2.968 │\n",
       "│ Operations       │ 20+HOURS          │                            3407 │                         11181 │                             30.47 │                        3.044 │\n",
       "│ Operations       │ 10-20HOURS        │                            4055 │                         11181 │                             36.27 │                        3.022 │\n",
       "│ Operations       │ <10HOURS          │                            3719 │                         11181 │                             33.26 │                        3.014 │\n",
       "│ Sales            │ 20+HOURS          │                            3365 │                         11122 │                             30.26 │                        3.004 │\n",
       "│ Sales            │ <10HOURS          │                            3751 │                         11122 │                             33.73 │                        2.999 │\n",
       "│ Sales            │ 10-20HOURS        │                            4006 │                         11122 │                             36.02 │                        2.979 │\n",
       "├──────────────────┴───────────────────┴─────────────────────────────────┴───────────────────────────────┴───────────────────────────────────┴──────────────────────────────┤\n",
       "│ 27 rows (20 shown)                                                                                                                                              6 columns │\n",
       "└───────────────────────────────────────────────────────────────────────────────────────────────────────────────────────────────────────────────────────────────────────────┘"
      ]
     },
     "execution_count": 48,
     "metadata": {},
     "output_type": "execute_result"
    }
   ],
   "source": [
    "duckdb.sql(\"\"\"\n",
    "  WITH DepartmentStats AS (\n",
    "    SELECT\n",
    "      Department,\n",
    "      Count(Employee_ID) AS Total_Employees_by_Department,\n",
    "    FROM employees\n",
    "    GROUP BY Department\n",
    "           ),\n",
    "  OvertimeStats AS (\n",
    "    SELECT\n",
    "      Department,\n",
    "      CASE\n",
    "        WHEN Overtime_Hours BETWEEN 0 AND 9 THEN '<10HOURS'\n",
    "        WHEN Overtime_Hours BETWEEN 10 AND 20 THEN '10-20HOURS'\n",
    "        ELSE '20+HOURS'\n",
    "      END AS Overtime_category,\n",
    "      ROUND(AVG(Employee_Satisfaction_Score),3) AS Avg_satisfaction,\n",
    "      COUNT(Employee_ID) AS Number_Of_Employees_By_Category\n",
    "    FROM employees\n",
    "    GROUP BY\n",
    "      Department, Overtime_category         \n",
    "           )\n",
    "  SELECT\n",
    "    ds.Department as Department,\n",
    "    os.Overtime_category as Overtime_category,\n",
    "    os.Number_Of_Employees_By_Category as Number_Of_Employees_By_Category,\n",
    "    ds.Total_Employees_by_Department as Total_Employees_by_Department,\n",
    "    ROUND( 100 * os.Number_Of_Employees_By_Category / ds.Total_Employees_by_Department ,2) as Overtime_Percentage_by_Department,\n",
    "    os.Avg_satisfaction as Avg_satisfaction_by_category\n",
    "  FROM DepartmentStats ds\n",
    "  JOIN OvertimeStats os\n",
    "  ON ds.Department = os.Department\n",
    "  ORDER BY \n",
    "           ds.Department, Avg_satisfaction DESC\n",
    "\"\"\")"
   ]
  },
  {
   "cell_type": "markdown",
   "metadata": {},
   "source": [
    "## The Percentage of People overtime in the company and the comparsion of overtime and non-overtime satisfication"
   ]
  },
  {
   "cell_type": "code",
   "execution_count": 66,
   "metadata": {},
   "outputs": [
    {
     "data": {
      "text/plain": [
       "┌──────────────────┬───────────────────────────────┬─────────────────┬───────────────────────────────────┬──────────────────────────────────────┬───────────────────────────────────┐\n",
       "│    Department    │ Overtime_Employees_Percentage │ Total_Employees │ Avg_satisfaction_For_OT_Employees │ Avg_satisfaction_For_No_OT_Employees │ Satisfication_higher_for_overtime │\n",
       "│     varchar      │            double             │      int64      │              double               │                double                │              varchar              │\n",
       "├──────────────────┼───────────────────────────────┼─────────────────┼───────────────────────────────────┼──────────────────────────────────────┼───────────────────────────────────┤\n",
       "│ HR               │                         96.69 │           10960 │                             2.998 │                                2.905 │ Yes                               │\n",
       "│ Finance          │                         96.62 │           11200 │                             3.006 │                                2.958 │ Yes                               │\n",
       "│ Legal            │                          96.8 │           11118 │                             2.986 │                                2.958 │ Yes                               │\n",
       "│ IT               │                         96.94 │           11131 │                             3.025 │                                2.966 │ Yes                               │\n",
       "│ Operations       │                         96.76 │           11181 │                             3.026 │                                3.012 │ Yes                               │\n",
       "│ Marketing        │                         96.67 │           11216 │                             2.996 │                                2.929 │ Yes                               │\n",
       "│ Sales            │                         96.42 │           11122 │                             2.995 │                                2.955 │ Yes                               │\n",
       "│ Customer Support │                         96.55 │           11116 │                             2.968 │                                2.977 │ No                                │\n",
       "│ Engineering      │                         96.63 │           10956 │                             3.001 │                                 3.06 │ No                                │\n",
       "└──────────────────┴───────────────────────────────┴─────────────────┴───────────────────────────────────┴──────────────────────────────────────┴───────────────────────────────────┘"
      ]
     },
     "execution_count": 66,
     "metadata": {},
     "output_type": "execute_result"
    }
   ],
   "source": [
    "duckdb.sql(\"\"\"\n",
    "  WITH OvertimeStats AS (\n",
    "      SELECT \n",
    "          Department,\n",
    "          SUM(CASE WHEN Overtime_Hours > 0 THEN 1 ELSE 0 END) AS Overtime_Employees,\n",
    "          COUNT(Employee_ID) AS Total_Employees,\n",
    "          ROUND(AVG(CASE WHEN Overtime_Hours > 0 THEN Employee_Satisfaction_Score ELSE NULL END), 3) AS Avg_satisfaction_For_OT_Employees\n",
    "      FROM \n",
    "          employees\n",
    "      GROUP BY\n",
    "          Department\n",
    "  ),\n",
    "  NoOvertimeStats AS (\n",
    "      SELECT\n",
    "          Department,\n",
    "          ROUND(AVG(Employee_Satisfaction_Score), 3) AS Avg_satisfaction_For_No_OT_Employees\n",
    "      FROM \n",
    "          employees\n",
    "      WHERE \n",
    "          Overtime_Hours < 1\n",
    "      GROUP BY \n",
    "          Department\n",
    "  )\n",
    "  SELECT \n",
    "      os.Department,\n",
    "      ROUND(100.0 * os.Overtime_Employees / os.Total_Employees, 2) AS Overtime_Employees_Percentage,\n",
    "      os.Total_Employees,\n",
    "      os.Avg_satisfaction_For_OT_Employees,\n",
    "      nos.Avg_satisfaction_For_No_OT_Employees,\n",
    "      CASE\n",
    "           WHEN  os.Avg_satisfaction_For_OT_Employees > nos.Avg_satisfaction_For_No_OT_Employees then 'Yes'\n",
    "           ELSE 'No'\n",
    "    END AS Satisfication_higher_for_overtime\n",
    "  FROM \n",
    "      OvertimeStats os\n",
    "  LEFT JOIN \n",
    "      NoOvertimeStats nos\n",
    "  ON \n",
    "      os.Department = nos.Department\n",
    "  ORDER BY \n",
    "      Satisfication_higher_for_overtime DESC\n",
    "\"\"\")\n"
   ]
  },
  {
   "cell_type": "markdown",
   "metadata": {},
   "source": [
    "Except for Customer Support and Engineering Department, Avg Satisfication is higher for other departments if they don't need to work over time"
   ]
  },
  {
   "cell_type": "markdown",
   "metadata": {},
   "source": [
    "# Employee Engagement"
   ]
  },
  {
   "cell_type": "markdown",
   "metadata": {},
   "source": [
    "## How does work hours per week impact performance scores across different departments?"
   ]
  },
  {
   "cell_type": "code",
   "execution_count": 68,
   "metadata": {},
   "outputs": [
    {
     "data": {
      "text/plain": [
       "┌──────────────────┬─────────────────────────────┬──────────────────┐\n",
       "│    Department    │      WorkHour_Category      │ Avg_satisfaction │\n",
       "│     varchar      │           varchar           │      double      │\n",
       "├──────────────────┼─────────────────────────────┼──────────────────┤\n",
       "│ Customer Support │ Less than or Equal 40 Hours │            2.969 │\n",
       "│ Customer Support │ 40 to 60 Hours              │            2.968 │\n",
       "│ Engineering      │ Less than or Equal 40 Hours │            3.015 │\n",
       "│ Engineering      │ 40 to 60 Hours              │            2.997 │\n",
       "│ Finance          │ Less than or Equal 40 Hours │            3.019 │\n",
       "│ Finance          │ 40 to 60 Hours              │            2.996 │\n",
       "│ HR               │ Less than or Equal 40 Hours │            3.018 │\n",
       "│ HR               │ 40 to 60 Hours              │            2.982 │\n",
       "│ IT               │ Less than or Equal 40 Hours │            3.025 │\n",
       "│ IT               │ 40 to 60 Hours              │            3.022 │\n",
       "│ Legal            │ 40 to 60 Hours              │            2.998 │\n",
       "│ Legal            │ Less than or Equal 40 Hours │            2.961 │\n",
       "│ Marketing        │ Less than or Equal 40 Hours │            3.014 │\n",
       "│ Marketing        │ 40 to 60 Hours              │            2.983 │\n",
       "│ Operations       │ 40 to 60 Hours              │            3.037 │\n",
       "│ Operations       │ Less than or Equal 40 Hours │            3.005 │\n",
       "│ Sales            │ Less than or Equal 40 Hours │            2.998 │\n",
       "│ Sales            │ 40 to 60 Hours              │            2.991 │\n",
       "├──────────────────┴─────────────────────────────┴──────────────────┤\n",
       "│ 18 rows                                                 3 columns │\n",
       "└───────────────────────────────────────────────────────────────────┘"
      ]
     },
     "execution_count": 68,
     "metadata": {},
     "output_type": "execute_result"
    }
   ],
   "source": [
    "duckdb.sql(\"\"\"\n",
    "  SELECT\n",
    "    Department,\n",
    "    CASE\n",
    "      WHEN Work_Hours_Per_Week <= 40 THEN 'Less than or Equal 40 Hours'\n",
    "      WHEN Work_Hours_Per_Week BETWEEN 40 AND 60 THEN '40 to 60 Hours'\n",
    "      WHEN Work_Hours_Per_Week > 60 THEN 'More than 60 Hours'\n",
    "    END as WorkHour_Category,\n",
    "    ROUND(AVG(Employee_Satisfaction_Score),3) AS Avg_satisfaction\n",
    "  FROM\n",
    "    employees\n",
    "  GROUP BY\n",
    "    Department, WorkHour_Category\n",
    "  ORDER BY\n",
    "    Department, Avg_satisfaction DESC\n",
    "           \n",
    "           \"\"\")"
   ]
  },
  {
   "cell_type": "markdown",
   "metadata": {},
   "source": [
    "## How does training impact employee satisfaction and performance, group by department and training level, order by performance"
   ]
  },
  {
   "cell_type": "code",
   "execution_count": 13,
   "metadata": {},
   "outputs": [
    {
     "data": {
      "text/plain": [
       "┌──────────────────┬────────────────┬──────────────────┬─────────────────┐\n",
       "│    Department    │ Training_level │ Avg_satisfaction │ Avg_performance │\n",
       "│     varchar      │    varchar     │      double      │     double      │\n",
       "├──────────────────┼────────────────┼──────────────────┼─────────────────┤\n",
       "│ HR               │ MEDIUM         │            2.965 │           3.041 │\n",
       "│ Operations       │ MEDIUM         │            3.025 │           3.037 │\n",
       "│ Customer Support │ LOW            │            2.954 │           3.034 │\n",
       "│ Engineering      │ HIGH           │            2.999 │           3.027 │\n",
       "│ Sales            │ LOW            │            3.015 │           3.023 │\n",
       "│ IT               │ HIGH           │            3.036 │           3.017 │\n",
       "│ Engineering      │ LOW            │            2.994 │           3.015 │\n",
       "│ Customer Support │ MEDIUM         │            2.995 │           3.009 │\n",
       "│ Legal            │ LOW            │            3.006 │           3.007 │\n",
       "│ Engineering      │ MEDIUM         │            3.022 │           3.006 │\n",
       "├──────────────────┴────────────────┴──────────────────┴─────────────────┤\n",
       "│ 10 rows                                                      4 columns │\n",
       "└────────────────────────────────────────────────────────────────────────┘"
      ]
     },
     "execution_count": 13,
     "metadata": {},
     "output_type": "execute_result"
    }
   ],
   "source": [
    "duckdb.sql(\"\"\"\n",
    "        SELECT\n",
    "           Department,\n",
    "           CASE\n",
    "            WHEN Training_Hours < 20 THEN 'LOW'\n",
    "            WHEN Training_Hours BETWEEN 20 AND 40 THEN 'MEDIUM'\n",
    "            ELSE 'HIGH'\n",
    "           END AS Training_level,\n",
    "           ROUND(AVG(Employee_Satisfaction_Score),3) AS Avg_satisfaction,\n",
    "           ROUND(AVG(PerfoRmance_Score),3) AS Avg_performance\n",
    "        FROM employees\n",
    "        GROUP BY Department, Training_level\n",
    "        ORDER BY Avg_performance DESC\n",
    "         LIMIT 10\n",
    "           \"\"\")"
   ]
  },
  {
   "cell_type": "markdown",
   "metadata": {},
   "source": [
    "Doesn't look like training hours affect performace"
   ]
  },
  {
   "cell_type": "markdown",
   "metadata": {},
   "source": [
    "## Comparative Analysis of Average Performance Scores and Project Handling in Marketing, Customer Support, and Sales Department"
   ]
  },
  {
   "cell_type": "code",
   "execution_count": null,
   "metadata": {},
   "outputs": [
    {
     "data": {
      "text/plain": [
       "┌──────────────────┬──────────────────┬─────────────────────┬───────────────────────┬──────────────────────┐\n",
       "│    Department    │ Projects_Handled │ Number_Of_Employees │ Avg_Performance_Score │ Performance_Category │\n",
       "│     varchar      │      int64       │        int64        │        double         │       varchar        │\n",
       "├──────────────────┼──────────────────┼─────────────────────┼───────────────────────┼──────────────────────┤\n",
       "│ Customer Support │               39 │                 185 │                 3.189 │ Top 3 Most           │\n",
       "│ Customer Support │               11 │                 242 │                 3.182 │ Top 3 Most           │\n",
       "│ Customer Support │               49 │                 228 │                 3.154 │ Top 3 Most           │\n",
       "│ Customer Support │               15 │                 225 │                 2.853 │ Top 3 Least          │\n",
       "│ Customer Support │               21 │                 214 │                 2.818 │ Top 3 Least          │\n",
       "│ Customer Support │               22 │                 238 │                 2.731 │ Top 3 Least          │\n",
       "│ Marketing        │               41 │                 240 │                 3.158 │ Top 3 Most           │\n",
       "│ Marketing        │               13 │                 217 │                 3.138 │ Top 3 Most           │\n",
       "│ Marketing        │               46 │                 248 │                 3.137 │ Top 3 Most           │\n",
       "│ Marketing        │               17 │                 226 │                 2.805 │ Top 3 Least          │\n",
       "│ Marketing        │               14 │                 196 │                 2.765 │ Top 3 Least          │\n",
       "│ Marketing        │               21 │                 223 │                 2.762 │ Top 3 Least          │\n",
       "│ Sales            │                3 │                 219 │                 3.201 │ Top 3 Most           │\n",
       "│ Sales            │               31 │                 201 │                 3.174 │ Top 3 Most           │\n",
       "│ Sales            │               48 │                 217 │                 3.147 │ Top 3 Most           │\n",
       "│ Sales            │                9 │                 232 │                 2.845 │ Top 3 Least          │\n",
       "│ Sales            │               46 │                 239 │                 2.828 │ Top 3 Least          │\n",
       "│ Sales            │               15 │                 187 │                 2.824 │ Top 3 Least          │\n",
       "├──────────────────┴──────────────────┴─────────────────────┴───────────────────────┴──────────────────────┤\n",
       "│ 18 rows                                                                                        5 columns │\n",
       "└──────────────────────────────────────────────────────────────────────────────────────────────────────────┘"
      ]
     },
     "execution_count": 86,
     "metadata": {},
     "output_type": "execute_result"
    }
   ],
   "source": [
    "duckdb.sql(\"\"\"\n",
    "  WITH ranked_performance AS (\n",
    "  SELECT\n",
    "           Department,\n",
    "           Projects_Handled,\n",
    "           COUNT(Employee_ID) AS Number_Of_Employees,\n",
    "           ROUND(AVG(Performance_Score), 3) AS Avg_Performance_Score,\n",
    "           RANK() OVER (PARTITION BY Department ORDER BY Avg_Performance_Score DESC) AS rank_most,\n",
    "           RANK() OVER (PARTITION BY Department ORDER BY Avg_Performance_Score ASC) AS rank_less\n",
    "  FROM     employees\n",
    "  GROUP BY \n",
    "           Department, Projects_Handled\n",
    "  ORDER BY \n",
    "           Department, Projects_Handled DESC\n",
    "  )\n",
    "  SELECT \n",
    "           Department,\n",
    "           Projects_Handled,\n",
    "           Number_Of_Employees,\n",
    "           Avg_Performance_Score,\n",
    "           CASE \n",
    "              WHEN rank_most <= 3 THEN 'Top 3 Most'\n",
    "              WHEN rank_less <= 3 THEN 'Top 3 Least'\n",
    "          END AS Performance_Category\n",
    "  FROM ranked_performance\n",
    "  WHERE \n",
    "           (rank_most <= 3 OR rank_less <= 3) AND\n",
    "           Department IN ('Marketing', 'Customer Support', 'Sales')\n",
    "  ORDER BY \n",
    "           Department, Avg_Performance_Score DESC, Projects_Handled DESC;\n",
    "        \n",
    "\"\"\")"
   ]
  },
  {
   "cell_type": "markdown",
   "metadata": {},
   "source": [
    "Performace doesn't show strong relationship with number of projects they handled"
   ]
  },
  {
   "cell_type": "markdown",
   "metadata": {},
   "source": [
    "## For each department, rank employees based on their performance score, and calculate the percentage difference from the department average."
   ]
  },
  {
   "cell_type": "code",
   "execution_count": 85,
   "metadata": {},
   "outputs": [
    {
     "data": {
      "text/plain": [
       "┌──────────────────┬─────────────────────┬───────────────────┬───────────┬───────────────────────┬───────────────────┐\n",
       "│    Department    │ Number_Of_Employees │ Performance_Score │ dept_rank │ avg_performance_score │ pct_diff_from_avg │\n",
       "│     varchar      │        int64        │       int64       │   int64   │        double         │      double       │\n",
       "├──────────────────┼─────────────────────┼───────────────────┼───────────┼───────────────────────┼───────────────────┤\n",
       "│ Customer Support │                2215 │                 5 │         1 │                 2.997 │             66.83 │\n",
       "│ Customer Support │                2226 │                 4 │         2 │                 2.997 │             33.47 │\n",
       "│ Engineering      │                2270 │                 5 │         1 │                  3.02 │             65.56 │\n",
       "│ Engineering      │                2144 │                 4 │         2 │                  3.02 │             32.45 │\n",
       "│ Finance          │                2182 │                 5 │         1 │                 2.981 │             67.73 │\n",
       "│ Finance          │                2262 │                 4 │         2 │                 2.981 │             34.18 │\n",
       "│ HR               │                2186 │                 5 │         1 │                 2.997 │             66.83 │\n",
       "│ HR               │                2182 │                 4 │         2 │                 2.997 │             33.47 │\n",
       "│ IT               │                2276 │                 5 │         1 │                   3.0 │             66.67 │\n",
       "│ IT               │                2186 │                 4 │         2 │                   3.0 │             33.33 │\n",
       "│ Legal            │                2219 │                 5 │         1 │                 2.982 │             67.67 │\n",
       "│ Legal            │                2196 │                 4 │         2 │                 2.982 │             34.14 │\n",
       "│ Marketing        │                2165 │                 5 │         1 │                 2.981 │             67.73 │\n",
       "│ Marketing        │                2225 │                 4 │         2 │                 2.981 │             34.18 │\n",
       "│ Operations       │                2233 │                 5 │         1 │                 3.007 │             66.28 │\n",
       "│ Operations       │                2270 │                 4 │         2 │                 3.007 │             33.02 │\n",
       "│ Sales            │                2182 │                 5 │         1 │                 2.994 │              67.0 │\n",
       "│ Sales            │                2249 │                 4 │         2 │                 2.994 │              33.6 │\n",
       "├──────────────────┴─────────────────────┴───────────────────┴───────────┴───────────────────────┴───────────────────┤\n",
       "│ 18 rows                                                                                                  6 columns │\n",
       "└────────────────────────────────────────────────────────────────────────────────────────────────────────────────────┘"
      ]
     },
     "execution_count": 85,
     "metadata": {},
     "output_type": "execute_result"
    }
   ],
   "source": [
    "duckdb.sql(\"\"\"\n",
    "  WITH department_avg AS (\n",
    "  SELECT \n",
    "    Department,\n",
    "    \n",
    "    ROUND(AVG(Performance_Score), 3) AS avg_performance_score\n",
    "  FROM employees\n",
    "  GROUP BY Department\n",
    "  ),\n",
    "  performance_rank AS (\n",
    "  SELECT\n",
    "    Department,\n",
    "    Performance_Score,\n",
    "    COUNT(Employee_ID) AS Number_Of_Employees,\n",
    "    DENSE_RANK() OVER (PARTITION BY Department ORDER BY Performance_Score DESC) AS dept_rank\n",
    "  FROM employees\n",
    "  GROUP BY Department, Performance_Score\n",
    "  )\n",
    "  SELECT    \n",
    "           pr.Department,\n",
    "           pr.Number_Of_Employees,\n",
    "           pr.Performance_Score,\n",
    "           pr.dept_rank,\n",
    "           da.avg_performance_score,\n",
    "           ROUND(((pr.Performance_Score - da.avg_performance_score) / da.avg_performance_score) * 100, 2) AS pct_diff_from_avg        \n",
    "  FROM performance_rank pr\n",
    "  JOIN department_avg da \n",
    "  ON pr.Department = da.Department\n",
    "  WHERE dept_rank <= 2\n",
    "  ORDER BY \n",
    "           pr.Department, pr.dept_rank\n",
    "  \"\"\")"
   ]
  },
  {
   "cell_type": "markdown",
   "metadata": {},
   "source": [
    "# Resignation and Retention Insights"
   ]
  },
  {
   "cell_type": "markdown",
   "metadata": {},
   "source": [
    "## What factors are most strongly correlated with employee resignation?"
   ]
  },
  {
   "cell_type": "code",
   "execution_count": 9,
   "metadata": {},
   "outputs": [
    {
     "data": {
      "text/plain": [
       "┌──────────────────┬──────────────────┬──────────────────┬─────────────────┬───────────────────┬──────────────┬────────────┐\n",
       "│    Department    │ resignation_rate │ avg_satisfaction │ avg_performance │ avg_working_hours │ avg_overtime │ avg_salary │\n",
       "│     varchar      │      double      │      double      │     double      │      double       │    double    │   double   │\n",
       "├──────────────────┼──────────────────┼──────────────────┼─────────────────┼───────────────────┼──────────────┼────────────┤\n",
       "│ Finance          │            0.105 │            3.004 │           2.981 │            44.894 │       14.345 │   6398.576 │\n",
       "│ HR               │            0.103 │            2.995 │           2.997 │            44.929 │       14.577 │   6400.356 │\n",
       "│ Legal            │            0.102 │            2.985 │           2.982 │            45.013 │       14.548 │   6391.275 │\n",
       "│ Marketing        │              0.1 │            2.994 │           2.981 │            44.888 │       14.483 │   6377.858 │\n",
       "│ Operations       │              0.1 │            3.026 │           3.007 │            44.968 │       14.521 │   6412.307 │\n",
       "│ Sales            │            0.099 │            2.993 │           2.994 │            45.013 │       14.514 │   6413.154 │\n",
       "│ Customer Support │            0.099 │            2.968 │           2.997 │            44.907 │       14.384 │   6403.882 │\n",
       "│ IT               │            0.096 │            3.023 │             3.0 │            44.929 │       14.673 │   6414.599 │\n",
       "│ Engineering      │            0.096 │            3.003 │            3.02 │            45.074 │       14.593 │   6417.246 │\n",
       "└──────────────────┴──────────────────┴──────────────────┴─────────────────┴───────────────────┴──────────────┴────────────┘"
      ]
     },
     "execution_count": 9,
     "metadata": {},
     "output_type": "execute_result"
    }
   ],
   "source": [
    "duckdb.sql(\"\"\"\n",
    "      SELECT \n",
    "        Department,\n",
    "        ROUND(AVG(CASE WHEN Resigned = TRUE THEN 1 ELSE 0 END),3) AS resignation_rate,\n",
    "        ROUND(AVG(Employee_Satisfaction_Score),3) AS avg_satisfaction,\n",
    "        ROUND(AVG(Performance_Score),3) AS avg_performance,\n",
    "        ROUND(AVG(Work_Hours_Per_Week),3) AS avg_working_hours,\n",
    "        ROUND(AVG(Overtime_Hours ),3) AS avg_overtime,\n",
    "        ROUND(AVG(Monthly_Salary),3) AS avg_salary\n",
    "      FROM employees\n",
    "      GROUP BY Department\n",
    "      ORDER BY resignation_rate DESC;\n",
    "\"\"\")"
   ]
  },
  {
   "cell_type": "markdown",
   "metadata": {},
   "source": [
    "From above factors chosen, there is no strong correlation with resignation"
   ]
  },
  {
   "cell_type": "markdown",
   "metadata": {},
   "source": [
    "## Is there a relationship between promotions and employee retention?"
   ]
  },
  {
   "cell_type": "code",
   "execution_count": 11,
   "metadata": {},
   "outputs": [
    {
     "data": {
      "text/plain": [
       "┌────────────┬─────────────────┬────────────────────┬────────────────────┐\n",
       "│ Promotions │ total_employees │ retained_employees │ retained_employees │\n",
       "│   int64    │      int64      │       int128       │       double       │\n",
       "├────────────┼─────────────────┼────────────────────┼────────────────────┤\n",
       "│          0 │           33296 │              29952 │              89.96 │\n",
       "│          1 │           33436 │              30093 │               90.0 │\n",
       "│          2 │           33268 │              29945 │              90.01 │\n",
       "└────────────┴─────────────────┴────────────────────┴────────────────────┘"
      ]
     },
     "execution_count": 11,
     "metadata": {},
     "output_type": "execute_result"
    }
   ],
   "source": [
    "duckdb.sql(\"\"\"\n",
    "  SELECT \n",
    "           Promotions,\n",
    "           COUNT(*) total_employees,\n",
    "           SUM(CASE WHEN Resigned = FALSE THEN 1 ELSE 0 END) AS retained_employees,\n",
    "           ROUND(SUM(CASE WHEN Resigned = FALSE THEN 1 ELSE 0 END) * 100 / count(*),2) AS retained_employees\n",
    "  FROM employees\n",
    "  GROUP BY Promotions\n",
    "  ORDER BY Promotions\n",
    "           \"\"\")"
   ]
  },
  {
   "cell_type": "markdown",
   "metadata": {},
   "source": [
    "The Retained Rate is higher if got promotion"
   ]
  },
  {
   "cell_type": "markdown",
   "metadata": {},
   "source": [
    "## How does tenure (years at company) affect resignation rates (group by gender)?"
   ]
  },
  {
   "cell_type": "code",
   "execution_count": null,
   "metadata": {},
   "outputs": [
    {
     "data": {
      "text/plain": [
       "┌──────────────┬─────────┬─────────────────┬───────────────┐\n",
       "│ tenure_group │ Gender  │ total_employees │ resigned_rate │\n",
       "│   varchar    │ varchar │      int64      │    double     │\n",
       "├──────────────┼─────────┼─────────────────┼───────────────┤\n",
       "│ 0-1 years    │ Female  │            9628 │        10.012 │\n",
       "│ 0-1 years    │ Male    │            9644 │        10.027 │\n",
       "│ 0-1 years    │ Other   │             829 │        12.304 │\n",
       "│ 2-5 years    │ Female  │           19244 │         9.863 │\n",
       "│ 2-5 years    │ Male    │           19401 │        10.061 │\n",
       "│ 2-5 years    │ Other   │            1557 │          9.12 │\n",
       "│ 6-10 years   │ Female  │           19129 │        10.215 │\n",
       "│ 6-10 years   │ Male    │           18986 │         9.944 │\n",
       "│ 6-10 years   │ Other   │            1582 │         9.039 │\n",
       "└──────────────┴─────────┴─────────────────┴───────────────┘"
      ]
     },
     "execution_count": 18,
     "metadata": {},
     "output_type": "execute_result"
    }
   ],
   "source": [
    "duckdb.sql(\"\"\"\n",
    "  SELECT    \n",
    "            CASE \n",
    "              WHEN Years_At_Company < 2 THEN '0-1 years'\n",
    "              WHEN Years_At_Company BETWEEN 2 AND 5 THEN '2-5 years'\n",
    "              WHEN Years_At_Company BETWEEN 6 AND 10 THEN '6-10 years'\n",
    "              ELSE '10+ years'\n",
    "            END AS tenure_group,\n",
    "           Gender, \n",
    "            COUNT(*) AS total_employees,\n",
    "            ROUND(SUM(CASE WHEN Resigned = TRUE THEN 1 ELSE 0 END) * 100 / count(*),3) AS resigned_rate\n",
    "    FROM employees\n",
    "    GROUP BY tenure_group, Gender\n",
    "    ORDER BY tenure_group, Gender\n",
    "           \"\"\")"
   ]
  },
  {
   "cell_type": "markdown",
   "metadata": {},
   "source": [
    "Looks like resigned rate is different between males and female in different serving years group"
   ]
  },
  {
   "cell_type": "markdown",
   "metadata": {},
   "source": [
    "## Show a Table of Number of Employees, New Hire Employees and Leaving Employees as well as the employees change rate from 2015 to 2022"
   ]
  },
  {
   "cell_type": "code",
   "execution_count": 67,
   "metadata": {},
   "outputs": [
    {
     "data": {
      "text/plain": [
       "┌───────────────┬─────────┬─────────────────┬───────────┬───────────────┬────────────────┬─────────────────────────────┬────────────────────────────────┬───────────────────────────────┬───────────────────────────────┐\n",
       "│ Research_Year │ Gender  │ Total_Employees │ New_Hires │ Old_Employees │ Left_Employees │ Total_Employees_Change_Rate │ New_Hire_Employees_Change_Rate │ New_Hires_of_Total_Percentage │ Employees_Leaving_Change_Rate │\n",
       "│     int64     │ varchar │      int64      │   int64   │     int64     │     int64      │           double            │             double             │            double             │            double             │\n",
       "├───────────────┼─────────┼─────────────────┼───────────┼───────────────┼────────────────┼─────────────────────────────┼────────────────────────────────┼───────────────────────────────┼───────────────────────────────┤\n",
       "│          2015 │ Female  │            6298 │      4807 │          1491 │              0 │                        NULL │                           NULL │                         76.33 │                          NULL │\n",
       "│          2016 │ Female  │           11084 │      4786 │          6298 │              0 │                       75.99 │                          -0.44 │                         43.18 │                          NULL │\n",
       "│          2017 │ Female  │           15859 │      4775 │         11084 │              0 │                       43.08 │                          -0.23 │                         30.11 │                          NULL │\n",
       "│          2018 │ Female  │           20598 │      4739 │         15859 │              0 │                       29.88 │                          -0.75 │                         23.01 │                          NULL │\n",
       "│          2019 │ Female  │           25320 │      4722 │         20598 │              0 │                       22.92 │                          -0.36 │                         18.65 │                          NULL │\n",
       "│          2020 │ Female  │           30200 │      4880 │         25320 │              0 │                       19.27 │                           3.35 │                         16.16 │                          NULL │\n",
       "│          2021 │ Female  │           35043 │      4843 │         30200 │              0 │                       16.04 │                          -0.76 │                         13.82 │                          NULL │\n",
       "│          2022 │ Female  │           39970 │      4927 │         35043 │              0 │                       14.06 │                           1.73 │                         12.33 │                          NULL │\n",
       "│          2023 │ Female  │           44768 │      4798 │         26234 │          15286 │                        12.0 │                          -2.62 │                         10.72 │                          NULL │\n",
       "│          2015 │ Male    │            6203 │      4710 │          1493 │              0 │                        NULL │                           NULL │                         75.93 │                          NULL │\n",
       "│          2016 │ Male    │           10909 │      4706 │          6203 │              0 │                       75.87 │                          -0.08 │                         43.14 │                          NULL │\n",
       "│          2017 │ Male    │           15734 │      4825 │         10909 │              0 │                       44.23 │                           2.53 │                         30.67 │                          NULL │\n",
       "│          2018 │ Male    │           20568 │      4834 │         15734 │              0 │                       30.72 │                           0.19 │                          23.5 │                          NULL │\n",
       "│          2019 │ Male    │           25386 │      4818 │         20568 │              0 │                       23.42 │                          -0.33 │                         18.98 │                          NULL │\n",
       "│          2020 │ Male    │           30186 │      4800 │         25386 │              0 │                       18.91 │                          -0.37 │                          15.9 │                          NULL │\n",
       "│          2021 │ Male    │           35049 │      4863 │         30186 │              0 │                       16.11 │                           1.31 │                         13.87 │                          NULL │\n",
       "│          2022 │ Male    │           39885 │      4836 │         35049 │              0 │                        13.8 │                          -0.56 │                         12.12 │                          NULL │\n",
       "│          2023 │ Male    │           44639 │      4754 │         25964 │          15438 │                       11.92 │                           -1.7 │                         10.65 │                          NULL │\n",
       "├───────────────┴─────────┴─────────────────┴───────────┴───────────────┴────────────────┴─────────────────────────────┴────────────────────────────────┴───────────────────────────────┴───────────────────────────────┤\n",
       "│ 18 rows                                                                                                                                                                                                    10 columns │\n",
       "└───────────────────────────────────────────────────────────────────────────────────────────────────────────────────────────────────────────────────────────────────────────────────────────────────────────────────────┘"
      ]
     },
     "execution_count": 67,
     "metadata": {},
     "output_type": "execute_result"
    }
   ],
   "source": [
    "duckdb.sql(\"\"\"\n",
    "WITH   EmploymentStats AS (\n",
    "              SELECT \n",
    "                     Gender,\n",
    "                     YEAR(Hire_Date) as Hire_year,\n",
    "                     YEAR(Hire_Date) + Years_At_Company as Leave_Year\n",
    "              FROM employees\n",
    "       ),\n",
    "       YearlyStats AS (\n",
    "              SELECT \n",
    "                     y.Year as Research_Year,\n",
    "                     es.Gender as Gender,\n",
    "                     COUNT(*) as Total_Employees,\n",
    "                     COUNT(*) FILTER (WHERE y.Year = es.Hire_Year) as New_Hires,\n",
    "                     COUNT(*) FILTER (WHERE y.Year < es.Leave_Year AND y.Year > es.Hire_Year) as Old_Employees,\n",
    "                     COUNT(*) FILTER (WHERE y.Year = es.Leave_Year) as Left_Employees,\n",
    "              FROM\n",
    "                     (SELECT DISTINCT YEAR(Hire_Date) as Year FROM employees WHERE YEAR(Hire_Date) BETWEEN 2015 AND 2023) AS y\n",
    "              LEFT JOIN EmploymentStats es\n",
    "                     ON y.Year BETWEEN es.Hire_year AND es.Leave_Year \n",
    "              GROUP BY\n",
    "                     y.Year, es.Gender\n",
    "              ORDER BY\n",
    "                     y.Year\n",
    "              ),\n",
    "       CurrentPreYearStats AS (\n",
    "              SELECT\n",
    "                     Research_Year,\n",
    "                     Gender,\n",
    "                     Total_Employees,\n",
    "                     New_Hires,\n",
    "                     Old_Employees,\n",
    "                     Left_Employees,\n",
    "                     LAG(Total_Employees) OVER (PARTITION BY Gender ORDER BY Research_Year) AS Prev_Employees,\n",
    "                     LAG(New_Hires) OVER (PARTITION BY Gender ORDER BY Research_Year) AS Prev_New_Hires,\n",
    "                     LAG(Left_Employees) OVER (PARTITION BY Gender ORDER BY Research_Year) AS Prev_Employees_Leaving\n",
    "              FROM YearlyStats    \n",
    "              ORDER BY\n",
    "                     Research_Year\n",
    "              )\n",
    "              SELECT\n",
    "                     Research_Year,\n",
    "                     Gender,\n",
    "                     Total_Employees,\n",
    "                     New_Hires,\n",
    "                     Old_Employees,\n",
    "                     Left_Employees,\n",
    "                     ROUND((Total_Employees - COALESCE(Prev_Employees, Total_Employees)) / NULLIF(Prev_Employees, 0) * 100, 2) AS Total_Employees_Change_Rate,\n",
    "                     ROUND((New_Hires - COALESCE(Prev_New_Hires, New_Hires)) / NULLIF(Prev_New_Hires, 0) * 100, 2) AS New_Hire_Employees_Change_Rate,\n",
    "                     ROUND(New_Hires / Total_Employees * 100, 2) AS New_Hires_of_Total_Percentage,\n",
    "                     ROUND((Left_Employees - COALESCE(Prev_Employees_Leaving, Left_Employees)) / NULLIF(Prev_Employees_Leaving, 0) * 100, 2) AS Employees_Leaving_Change_Rate\n",
    "              FROM CurrentPreYearStats\n",
    "              WHERE Gender in ('Female', 'Male')\n",
    "              ORDER BY\n",
    "                     Gender, Research_Year\n",
    "           \"\"\")"
   ]
  },
  {
   "cell_type": "markdown",
   "metadata": {},
   "source": [
    "For 2024, the latest data is Sep and this results in the decrease of new hire. Superisely, there is no left_employees until 2023 and new hire for both gender are similar each year"
   ]
  },
  {
   "cell_type": "markdown",
   "metadata": {},
   "source": [
    "# Diversity and Inclusion Metrics"
   ]
  },
  {
   "cell_type": "markdown",
   "metadata": {},
   "source": [
    "## Show the rank of the salary of age over 60+ group in their department"
   ]
  },
  {
   "cell_type": "code",
   "execution_count": 16,
   "metadata": {},
   "outputs": [
    {
     "data": {
      "text/plain": [
       "┌──────────────────┬───────────┬───────────────────┬───────┐\n",
       "│    Department    │ Age_Group │ Annual_Avg_Salary │ Rank  │\n",
       "│     varchar      │  varchar  │      double       │ int64 │\n",
       "├──────────────────┼───────────┼───────────────────┼───────┤\n",
       "│ Customer Support │ 60+       │          77543.82 │     1 │\n",
       "│ Engineering      │ 60+       │          79131.11 │     1 │\n",
       "│ Finance          │ 60+       │          77077.42 │     1 │\n",
       "│ HR               │ 60+       │          76451.21 │     1 │\n",
       "│ IT               │ 60+       │          76791.58 │     1 │\n",
       "│ Legal            │ 60+       │          79958.96 │     1 │\n",
       "│ Marketing        │ 60+       │          77002.68 │     1 │\n",
       "│ Operations       │ 60+       │          77426.99 │     1 │\n",
       "│ Sales            │ 60+       │           75417.3 │     1 │\n",
       "└──────────────────┴───────────┴───────────────────┴───────┘"
      ]
     },
     "execution_count": 16,
     "metadata": {},
     "output_type": "execute_result"
    }
   ],
   "source": [
    "duckdb.sql(\"\"\"\n",
    "WITH Age_Grouped_Salary AS (\n",
    "    SELECT \n",
    "        Department,\n",
    "        CASE \n",
    "            WHEN Age < 20 THEN 'Less than 20'\n",
    "            WHEN Age BETWEEN 20 AND 29 THEN '20 - 29'\n",
    "            WHEN Age BETWEEN 30 AND 39 THEN '30 - 39'\n",
    "            WHEN Age BETWEEN 40 AND 49 THEN '40 - 49'\n",
    "            WHEN Age BETWEEN 50 AND 59 THEN '50 - 59'\n",
    "            WHEN Age >= 60 THEN '60+'\n",
    "        END AS Age_Group,\n",
    "        ROUND(AVG(Monthly_Salary * 12), 2) AS Annual_Avg_Salary\n",
    "    FROM employees\n",
    "    GROUP BY Department, \n",
    "             CASE \n",
    "                 WHEN Age < 20 THEN 'Less than 20'\n",
    "                 WHEN Age BETWEEN 20 AND 29 THEN '20 - 29'\n",
    "                 WHEN Age BETWEEN 30 AND 39 THEN '30 - 39'\n",
    "                 WHEN Age BETWEEN 40 AND 49 THEN '40 - 49'\n",
    "                 WHEN Age BETWEEN 50 AND 59 THEN '50 - 59'\n",
    "                 WHEN Age >= 60 THEN '60+'\n",
    "             END\n",
    ")\n",
    "SELECT \n",
    "    Department,\n",
    "    Age_Group,\n",
    "    Annual_Avg_Salary,\n",
    "    ROW_NUMBER() OVER (PARTITION BY Department ORDER BY Annual_Avg_Salary DESC) AS Rank\n",
    "FROM Age_Grouped_Salary\n",
    "WHERE Age_Group = '60+'\n",
    "ORDER BY Department, Rank;\n",
    "\"\"\")\n"
   ]
  },
  {
   "cell_type": "markdown",
   "metadata": {},
   "source": [
    "Wowwww ! People over 60 have highest salary in their department. There is no age discrimination in this company and they more focus on their experiences"
   ]
  },
  {
   "cell_type": "markdown",
   "metadata": {},
   "source": [
    "## Identifying the Top-Earning Gender Across Departments and Job Titles: A Ranking-Based Analysis"
   ]
  },
  {
   "cell_type": "code",
   "execution_count": 30,
   "metadata": {},
   "outputs": [
    {
     "data": {
      "text/plain": [
       "┌──────────────────┬────────────┬─────────┬────────────┐\n",
       "│    Department    │ Job_Title  │ Gender  │ Avg_Salary │\n",
       "│     varchar      │  varchar   │ varchar │   double   │\n",
       "├──────────────────┼────────────┼─────────┼────────────┤\n",
       "│ Customer Support │ Analyst    │ Male    │    5226.77 │\n",
       "│ Customer Support │ Consultant │ Other   │    7344.79 │\n",
       "│ Customer Support │ Developer  │ Male    │    6523.13 │\n",
       "│ Customer Support │ Engineer   │ Other   │    7821.82 │\n",
       "│ Customer Support │ Manager    │ Female  │    7829.92 │\n",
       "│ Customer Support │ Specialist │ Other   │    5964.55 │\n",
       "│ Customer Support │ Technician │ Male    │    4531.35 │\n",
       "│ Engineering      │ Analyst    │ Female  │    5205.38 │\n",
       "│ Engineering      │ Consultant │ Female  │    7120.82 │\n",
       "│ Engineering      │ Developer  │ Other   │     6561.4 │\n",
       "│     ·            │    ·       │  ·      │        ·   │\n",
       "│     ·            │    ·       │  ·      │        ·   │\n",
       "│     ·            │    ·       │  ·      │        ·   │\n",
       "│ Operations       │ Manager    │ Male    │    7840.57 │\n",
       "│ Operations       │ Specialist │ Other   │     5940.0 │\n",
       "│ Operations       │ Technician │ Male    │    4553.29 │\n",
       "│ Sales            │ Analyst    │ Male    │    5201.06 │\n",
       "│ Sales            │ Consultant │ Other   │    7255.77 │\n",
       "│ Sales            │ Developer  │ Male    │    6483.83 │\n",
       "│ Sales            │ Engineer   │ Male    │    7833.11 │\n",
       "│ Sales            │ Manager    │ Other   │    7817.14 │\n",
       "│ Sales            │ Specialist │ Other   │    5863.24 │\n",
       "│ Sales            │ Technician │ Female  │    4577.06 │\n",
       "├──────────────────┴────────────┴─────────┴────────────┤\n",
       "│ 63 rows (20 shown)                         4 columns │\n",
       "└──────────────────────────────────────────────────────┘"
      ]
     },
     "execution_count": 30,
     "metadata": {},
     "output_type": "execute_result"
    }
   ],
   "source": [
    "duckdb.sql(\"\"\"\n",
    "         With Avg_Stats AS (\n",
    "           SELECT \n",
    "               Department,\n",
    "               Job_Title,\n",
    "               Gender,\n",
    "               ROUND(AVG(Monthly_Salary),2) AS Avg_Salary,\n",
    "               ROW_NUMBER() OVER (PARTITION BY Department, Job_Title ORDER BY AVG(Monthly_Salary) DESC) AS Ranking\n",
    "            FROM employees\n",
    "            GROUP BY\n",
    "               Department, Job_Title, Gender\n",
    "            ORDER BY \n",
    "               Department, Job_Title, Gender, Avg_Salary DESC\n",
    "           )\n",
    "           SELECT\n",
    "               Department,\n",
    "               Job_Title,\n",
    "               Gender,\n",
    "               Avg_Salary\n",
    "           FROM\n",
    "               Avg_Stats\n",
    "           WHERE\n",
    "               RANKING = 1\n",
    "           ORDER BY\n",
    "                Department, Job_Title\n",
    "          \"\"\")"
   ]
  },
  {
   "cell_type": "markdown",
   "metadata": {},
   "source": [
    "## To calculate the gender pay gap percentage by job title. Focusing on employees work in company over ten years and both males an females data existed"
   ]
  },
  {
   "cell_type": "code",
   "execution_count": 4,
   "metadata": {},
   "outputs": [
    {
     "data": {
      "text/plain": [
       "┌────────────┬──────────────────┬─────────────────┬───────────────────┬───────────────────────────┐\n",
       "│ Job_Title  │ Years_At_Company │ male_avg_salary │ female_avg_salary │ gender_pay_gap_percentage │\n",
       "│  varchar   │      int64       │     double      │      double       │          double           │\n",
       "├────────────┼──────────────────┼─────────────────┼───────────────────┼───────────────────────────┤\n",
       "│ Consultant │               10 │          7425.0 │            7150.0 │                       3.7 │\n",
       "│ Developer  │               10 │          5625.0 │            6400.0 │                    -13.78 │\n",
       "└────────────┴──────────────────┴─────────────────┴───────────────────┴───────────────────────────┘"
      ]
     },
     "execution_count": 4,
     "metadata": {},
     "output_type": "execute_result"
    }
   ],
   "source": [
    "duckdb.sql(\"\"\"\n",
    "  WITH pay_stats AS (\n",
    "    SELECT\n",
    "        Job_Title,\n",
    "           Gender,\n",
    "           Years_At_Company,\n",
    "           ROUND(AVG(Monthly_Salary),2) AS avg_salary,\n",
    "           COUNT(*) AS employee_count\n",
    "    FROM employees\n",
    "    WHERE Years_At_Company\n",
    "    GROUP BY Job_Title, Gender, Years_At_Company\n",
    "   \n",
    "           )\n",
    "    SELECT\n",
    "        Job_Title,\n",
    "        Years_At_Company,\n",
    "        MAX(CASE WHEN Gender = 'Male' THEN avg_salary END) AS male_avg_salary,\n",
    "        MAX(CASE WHEN Gender = 'Female' THEN avg_salary END) AS female_avg_salary,\n",
    "        ROUND((MAX(CASE WHEN Gender = 'Male' THEN avg_salary END) - MAX(CASE WHEN Gender = 'Female' THEN avg_salary END)) /\n",
    "            MAX(CASE WHEN Gender = 'Male' THEN avg_salary END) * 100,2) AS gender_pay_gap_percentage\n",
    "    FROM pay_stats\n",
    "    GROUP BY Job_Title, Years_At_Company\n",
    "    HAVING COUNT(DISTINCT Gender) = 2 AND male_avg_salary IS NOT NULL AND female_avg_salary IS NOT NULL\n",
    "    ORDER BY gender_pay_gap_percentage DESC \n",
    "\"\"\")"
   ]
  },
  {
   "cell_type": "markdown",
   "metadata": {},
   "source": []
  }
 ],
 "metadata": {
  "kernelspec": {
   "display_name": "Python 3",
   "language": "python",
   "name": "python3"
  },
  "language_info": {
   "codemirror_mode": {
    "name": "ipython",
    "version": 3
   },
   "file_extension": ".py",
   "mimetype": "text/x-python",
   "name": "python",
   "nbconvert_exporter": "python",
   "pygments_lexer": "ipython3",
   "version": "3.12.5"
  }
 },
 "nbformat": 4,
 "nbformat_minor": 2
}
